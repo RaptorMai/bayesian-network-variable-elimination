{
 "cells": [
  {
   "cell_type": "markdown",
   "metadata": {},
   "source": [
    "## Problem\n",
    "\n",
    "A critical valve in a steam plant may be in one of two states: normal or broken.  The state of the valve changes over time according to Markovian dynamics (the next state only depends on the previous state).  The initial valve state is normal.  If the current valve state is broken, the next valve state must be broken.  If the current valve state is normal, the next valve state has a 0.2 probability of becoming broken.  We model the valve state over 3 consecutive time steps (i.e., first time step, second time step, third time step).\n",
    "\n",
    "Note: This is not a continuous time model and we do not care about the exact times.  We simply have 3 different discrete random variables for valve state corresponding to the valve state at 3 consecutive time steps.\n",
    "\n",
    "A very noisy sensor monitors the valve state at every time step.  The sensor may take on one of two assignments: observed_normal or observed_broken.  If the valve state is normal, there is a uniform (i.e., equal) probability of the sensor reading either observed_normal or observed_broken.  If the valve state is broken, then the sensor will always read observed_broken.\n",
    "\n",
    "Answer the following questions, by showing the code that executes the query and produces the exact numerical result:\n",
    "\n",
    "1. Given no evidence, what is the probability that the valve state is broken at the third time step?\n",
    "2. Given the evidence observed_broken for the sensor at the second time step, what is the probability that the valve state is broken at the third time step?\n",
    "3. Given the sensor observation sequence (observed_broken, observed_normal, observed_broken) as evidence, what is the probability that the valve state is broken at the third time step?\n",
    "4. Given the sensor observation sequence (observed_broken, observed_broken, observed_broken) as evidence, what is the probability that the valve state is broken at the third time step?\n",
    "5. Given the evidence that the valve state at the second time step is normal, what is the probability of observing sensor value observed_normal at the third time step?\n"
   ]
  },
  {
   "cell_type": "code",
   "execution_count": 1,
   "metadata": {},
   "outputs": [],
   "source": [
    "from pgmpy.models import BayesianModel\n",
    "from pgmpy.factors.discrete import TabularCPD as cpd\n",
    "from pgmpy.estimators import MaximumLikelihoodEstimator\n",
    "from pgmpy.inference import VariableElimination\n",
    "import pandas as pd\n",
    "import numpy as np\n",
    "from BayesNet import BayesNet\n",
    "from TabularCPD import TabularCPD as cpd_my\n",
    "from variable_elimination import VariableElimination as VariableElimination_my\n",
    "from gibbs_sampler import Gibbs_Sampler\n",
    "import matplotlib.pyplot as plt\n",
    "from copy import *"
   ]
  },
  {
   "cell_type": "code",
   "execution_count": 2,
   "metadata": {},
   "outputs": [],
   "source": [
    "valve = BayesianModel([('v1', 'v2'), \n",
    "                       ('v2', 'v3'),\n",
    "                       ('v1', 's1'),\n",
    "                       ('v2', 's2'),\n",
    "                       ('v3', 's3')])\n",
    "\n",
    "v_v_values = [[1, 0.2], [0, 0.8]]\n",
    "v_s_values = [[1, 0.5], [0, 0.5]]\n",
    "\n",
    "cpd_v1 = cpd(variable='v1', variable_card=2,values=[[0], [1]])\n",
    "cpd_v2 = cpd(variable='v2', variable_card=2,\n",
    "            values=v_v_values,\n",
    "            evidence=['v1'],\n",
    "            evidence_card=[2])\n",
    "cpd_v3 = cpd(variable='v3', variable_card=2,\n",
    "            values=v_v_values,\n",
    "            evidence=['v2'],\n",
    "            evidence_card=[2])\n",
    "cpd_s1 = cpd(variable='s1', variable_card=2,\n",
    "            values=v_s_values,\n",
    "            evidence=['v1'],\n",
    "            evidence_card=[2])\n",
    "cpd_s2 = cpd(variable='s2', variable_card=2,\n",
    "            values=v_s_values,\n",
    "            evidence=['v2'],\n",
    "            evidence_card=[2])\n",
    "cpd_s3 = cpd(variable='s3', variable_card=2,\n",
    "            values=v_s_values,\n",
    "            evidence=['v3'],\n",
    "            evidence_card=[2])\n"
   ]
  },
  {
   "cell_type": "code",
   "execution_count": 3,
   "metadata": {},
   "outputs": [],
   "source": [
    "valve.add_cpds(cpd_v1, cpd_v2, cpd_v3, cpd_s1, cpd_s2, cpd_s3)"
   ]
  },
  {
   "cell_type": "code",
   "execution_count": 4,
   "metadata": {},
   "outputs": [],
   "source": [
    "valve_my = BayesNet([('v1', 'v2'), \n",
    "                       ('v2', 'v3'),\n",
    "                       ('v1', 's1'),\n",
    "                       ('v2', 's2'),\n",
    "                       ('v3', 's3')])\n",
    "v_v_values = [[1, 0.2], [0, 0.8]]\n",
    "v_s_values = [[1, 0.5], [0, 0.5]]\n",
    "\n",
    "cpd_v1_my = cpd_my(variable='v1', values=[[0], [1]])\n",
    "cpd_v2_my = cpd_my(variable='v2',\n",
    "            values=v_v_values,\n",
    "            evidence=['v1'])\n",
    "cpd_v3_my = cpd_my(variable='v3',\n",
    "            values=v_v_values,\n",
    "            evidence=['v2'])\n",
    "cpd_s1_my = cpd_my(variable='s1',\n",
    "            values=v_s_values,\n",
    "            evidence=['v1'])\n",
    "cpd_s2_my = cpd_my(variable='s2', \n",
    "            values=v_s_values,\n",
    "            evidence=['v2'])\n",
    "cpd_s3_my = cpd_my(variable='s3', \n",
    "            values=v_s_values,\n",
    "            evidence=['v3'])"
   ]
  },
  {
   "cell_type": "code",
   "execution_count": 5,
   "metadata": {},
   "outputs": [],
   "source": [
    "valve_my.add_cpds([cpd_v1_my, cpd_v2_my, cpd_v3_my, cpd_s1_my, cpd_s2_my, cpd_s3_my])"
   ]
  },
  {
   "cell_type": "code",
   "execution_count": 6,
   "metadata": {},
   "outputs": [],
   "source": [
    "def plot_it(final, steps, val_0, val_1):\n",
    "    plt.axhline(y=final[0], color='r', linestyle=':', label='0 exact')\n",
    "    plt.axhline(y=final[1], color='r', linestyle=':', label='1 exact')\n",
    "    plt.plot(steps, val_0, label='0 sample')\n",
    "    plt.plot(steps, val_1, label='1 sample')\n",
    "    plt.legend(loc='best')\n",
    "    plt.show()"
   ]
  },
  {
   "cell_type": "markdown",
   "metadata": {},
   "source": [
    "## Run queries"
   ]
  },
  {
   "cell_type": "markdown",
   "metadata": {},
   "source": [
    "### 1. Given no evidence, what is the probability that the valve state is broken at the third time step?\n",
    "\n",
    "Answer: 0.36"
   ]
  },
  {
   "cell_type": "code",
   "execution_count": 7,
   "metadata": {},
   "outputs": [],
   "source": [
    "valve_my.add_cpds([cpd_v1_my, cpd_v2_my, cpd_v3_my, cpd_s1_my, cpd_s2_my, cpd_s3_my])\n",
    "sampler = Gibbs_Sampler(valve_my)\n",
    "sample_data = sampler.query(['v3'], 5000, 1000, 50)\n",
    "steps_q1 = sample_data['v3'][1]['steps']\n",
    "val_0_q1 = sample_data['v3'][1]['0_val']\n",
    "val_1_q1 = sample_data['v3'][1]['1_val']\n",
    "final_q1 = sample_data['v3'][0]"
   ]
  },
  {
   "cell_type": "code",
   "execution_count": 8,
   "metadata": {},
   "outputs": [
    {
     "name": "stdout",
     "output_type": "stream",
     "text": [
      "Nodes: ['v3']\n",
      "Probabilities:\n",
      "[[0.   0.36]\n",
      " [1.   0.64]]\n",
      "\n"
     ]
    }
   ],
   "source": [
    "valve_my.add_cpds([cpd_v1_my, cpd_v2_my, cpd_v3_my, cpd_s1_my, cpd_s2_my, cpd_s3_my])\n",
    "infer_my = VariableElimination_my(valve_my)\n",
    "q1_my = infer_my.query(['v3'])\n",
    "print(q1_my['v3'])\n",
    "exact_q1 = q1_my['v3'].prob[:,-1].tolist()"
   ]
  },
  {
   "cell_type": "code",
   "execution_count": 9,
   "metadata": {},
   "outputs": [
    {
     "name": "stdout",
     "output_type": "stream",
     "text": [
      "{0: 0.6472, 1: 0.3526}\n"
     ]
    },
    {
     "data": {
      "image/png": "[encoded data removed]",
      "text/plain": [
       "<Figure size 432x288 with 1 Axes>"
      ]
     },
     "metadata": {
      "needs_background": "light"
     },
     "output_type": "display_data"
    }
   ],
   "source": [
    "print(final_q1)\n",
    "plot_it(exact_q1, steps_q1, val_0_q1, val_1_q1)"
   ]
  },
  {
   "cell_type": "code",
   "execution_count": 10,
   "metadata": {},
   "outputs": [
    {
     "name": "stdout",
     "output_type": "stream",
     "text": [
      "╒══════╤═══════════╕\n",
      "│ v3   │   phi(v3) │\n",
      "╞══════╪═══════════╡\n",
      "│ v3_0 │    0.3600 │\n",
      "├──────┼───────────┤\n",
      "│ v3_1 │    0.6400 │\n",
      "╘══════╧═══════════╛\n"
     ]
    }
   ],
   "source": [
    "infer = VariableElimination(valve)\n",
    "q1 = infer.query(variables=['v3'])\n",
    "print(q1['v3'])"
   ]
  },
  {
   "cell_type": "markdown",
   "metadata": {},
   "source": [
    "After 2000 steps, the sampler appears to asymptote the exact solution"
   ]
  },
  {
   "cell_type": "markdown",
   "metadata": {},
   "source": [
    "### 2. Given the evidence observed_broken for the sensor at the second time step, what is the probability that the valve state is broken at the third time step?\n",
    "\n",
    "Answer: 0.4667"
   ]
  },
  {
   "cell_type": "code",
   "execution_count": 25,
   "metadata": {},
   "outputs": [],
   "source": [
    "valve_my.add_cpds([cpd_v1_my, cpd_v2_my, cpd_v3_my, cpd_s1_my, cpd_s2_my, cpd_s3_my])\n",
    "sampler = Gibbs_Sampler(valve_my)\n",
    "sample_data = sampler.query(['v3'], 10000, 2000, 50,evidence={'s2':0})\n",
    "steps_q2 = sample_data['v3'][1]['steps']\n",
    "val_0_q2 = sample_data['v3'][1]['0_val']\n",
    "val_1_q2 = sample_data['v3'][1]['1_val']\n",
    "final_q2 = sample_data['v3'][0]"
   ]
  },
  {
   "cell_type": "code",
   "execution_count": 26,
   "metadata": {},
   "outputs": [
    {
     "name": "stdout",
     "output_type": "stream",
     "text": [
      "Nodes: ['v3']\n",
      "Probabilities:\n",
      "[[0.         0.46666667]\n",
      " [1.         0.53333333]]\n",
      "\n"
     ]
    }
   ],
   "source": [
    "q2_my = infer_my.query(['v3'], evidence={'s2':0})\n",
    "print(q2_my['v3'])\n",
    "exact_q2 = q2_my['v3'].prob[:,-1].tolist()"
   ]
  },
  {
   "cell_type": "code",
   "execution_count": 27,
   "metadata": {},
   "outputs": [
    {
     "name": "stdout",
     "output_type": "stream",
     "text": [
      "{0: 0.5368, 1: 0.4631}\n"
     ]
    },
    {
     "data": {
      "image/png": "[encoded data removed]",
      "text/plain": [
       "<Figure size 432x288 with 1 Axes>"
      ]
     },
     "metadata": {
      "needs_background": "light"
     },
     "output_type": "display_data"
    }
   ],
   "source": [
    "print(final_q2)\n",
    "plot_it(exact_q2, steps_q2, val_0_q2, val_1_q2)"
   ]
  },
  {
   "cell_type": "code",
   "execution_count": 14,
   "metadata": {},
   "outputs": [
    {
     "name": "stdout",
     "output_type": "stream",
     "text": [
      "╒══════╤═══════════╕\n",
      "│ v3   │   phi(v3) │\n",
      "╞══════╪═══════════╡\n",
      "│ v3_0 │    0.4667 │\n",
      "├──────┼───────────┤\n",
      "│ v3_1 │    0.5333 │\n",
      "╘══════╧═══════════╛\n"
     ]
    }
   ],
   "source": [
    "q2 = infer.query(variables=['v3'], evidence={'s2':0})\n",
    "print(q2['v3'])"
   ]
  },
  {
   "cell_type": "markdown",
   "metadata": {},
   "source": [
    "After 4000 steps, the sampler appears to asymptote the exact solution"
   ]
  },
  {
   "cell_type": "markdown",
   "metadata": {},
   "source": [
    "### 3. Given the sensor observation sequence (observed_broken, observed_normal, observed_broken) as evidence, what is the probability that the valve state is broken at the third time step?\n",
    "\n",
    "Answer: 0.333"
   ]
  },
  {
   "cell_type": "code",
   "execution_count": 15,
   "metadata": {},
   "outputs": [],
   "source": [
    "valve_my.add_cpds([cpd_v1_my, cpd_v2_my, cpd_v3_my, cpd_s1_my, cpd_s2_my, cpd_s3_my])\n",
    "sampler = Gibbs_Sampler(valve_my)\n",
    "sample_data = sampler.query(['v3'], 5000, 1000, 50, evidence={'s1':0, 's2':1, 's3':0})\n",
    "steps_q3 = sample_data['v3'][1]['steps']\n",
    "val_0_q3 = sample_data['v3'][1]['0_val']\n",
    "val_1_q3 = sample_data['v3'][1]['1_val']\n",
    "final_q3 = sample_data['v3'][0]"
   ]
  },
  {
   "cell_type": "code",
   "execution_count": 16,
   "metadata": {},
   "outputs": [
    {
     "name": "stdout",
     "output_type": "stream",
     "text": [
      "Nodes: ['v3']\n",
      "Probabilities:\n",
      "[[0.         0.33333333]\n",
      " [1.         0.66666667]]\n",
      "\n"
     ]
    }
   ],
   "source": [
    "q3_my = infer_my.query(['v3'], evidence={'s1':0, 's2':1, 's3':0})\n",
    "print(q3_my['v3'])\n",
    "exact_q3 = q3_my['v3'].prob[:,-1].tolist()"
   ]
  },
  {
   "cell_type": "code",
   "execution_count": 17,
   "metadata": {},
   "outputs": [
    {
     "name": "stdout",
     "output_type": "stream",
     "text": [
      "{0: 0.669, 1: 0.3308}\n"
     ]
    },
    {
     "data": {
      "image/png": "[encoded data removed]",
      "text/plain": [
       "<Figure size 432x288 with 1 Axes>"
      ]
     },
     "metadata": {
      "needs_background": "light"
     },
     "output_type": "display_data"
    }
   ],
   "source": [
    "print(final_q3)\n",
    "plot_it(exact_q3, steps_q3, val_0_q3, val_1_q3)"
   ]
  },
  {
   "cell_type": "code",
   "execution_count": 18,
   "metadata": {},
   "outputs": [
    {
     "name": "stdout",
     "output_type": "stream",
     "text": [
      "╒══════╤═══════════╕\n",
      "│ v3   │   phi(v3) │\n",
      "╞══════╪═══════════╡\n",
      "│ v3_0 │    0.3333 │\n",
      "├──────┼───────────┤\n",
      "│ v3_1 │    0.6667 │\n",
      "╘══════╧═══════════╛\n"
     ]
    }
   ],
   "source": [
    "q3 = infer.query(variables=['v3'], evidence={'s1':0, 's2':1, 's3':0})\n",
    "print(q3['v3'])"
   ]
  },
  {
   "cell_type": "markdown",
   "metadata": {},
   "source": [
    "After 1500 steps, the sampler appears to asymptote the exact solution"
   ]
  },
  {
   "cell_type": "code",
   "execution_count": null,
   "metadata": {},
   "outputs": [],
   "source": []
  }
 ],
 "metadata": {
  "kernelspec": {
   "display_name": "Python 3",
   "language": "python",
   "name": "python3"
  },
  "language_info": {
   "codemirror_mode": {
    "name": "ipython",
    "version": 3
   },
   "file_extension": ".py",
   "mimetype": "text/x-python",
   "name": "python",
   "nbconvert_exporter": "python",
   "pygments_lexer": "ipython3",
   "version": "3.5.5"
  }
 },
 "nbformat": 4,
 "nbformat_minor": 2
}
