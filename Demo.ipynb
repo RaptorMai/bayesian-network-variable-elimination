{
 "cells": [
  {
   "cell_type": "code",
   "execution_count": 1,
   "metadata": {},
   "outputs": [],
   "source": [
    "from pgmpy.models import BayesianModel\n",
    "from pgmpy.factors.discrete import TabularCPD\n",
    "from pgmpy.inference import VariableElimination\n",
    "from BayesNet import BayesNet as my_BayesNet\n",
    "from TabularCPD import TabularCPD as my_TabularCPD\n",
    "from variable_elimination import VariableElimination as my_VariableElimination"
   ]
  },
  {
   "cell_type": "markdown",
   "metadata": {},
   "source": [
    "## Example 1\n",
    "The graph\n",
    "<img src=\"http://www.bnlearn.com/bnrepository/cancer/cancer.png\" width=\"400\">"
   ]
  },
  {
   "cell_type": "raw",
   "metadata": {},
   "source": [
    "network unknown {\n",
    "}\n",
    "variable Pollution {\n",
    "  type discrete [ 2 ] { low, high };\n",
    "}\n",
    "variable Smoker {\n",
    "  type discrete [ 2 ] { True, False };\n",
    "}\n",
    "variable Cancer {\n",
    "  type discrete [ 2 ] { True, False };\n",
    "}\n",
    "variable Xray {\n",
    "  type discrete [ 2 ] { positive, negative };\n",
    "}\n",
    "variable Dyspnoea {\n",
    "  type discrete [ 2 ] { True, False };\n",
    "}\n",
    "probability ( Pollution ) {\n",
    "  table 0.9, 0.1;\n",
    "}\n",
    "probability ( Smoker ) {\n",
    "  table 0.3, 0.7;\n",
    "}\n",
    "probability ( Cancer | Pollution, Smoker ) {\n",
    "  (low, True) 0.03, 0.97;\n",
    "  (high, True) 0.05, 0.95;\n",
    "  (low, False) 0.001, 0.999;\n",
    "  (high, False) 0.02, 0.98;\n",
    "}\n",
    "probability ( Xray | Cancer ) {\n",
    "  (True) 0.9, 0.1;\n",
    "  (False) 0.2, 0.8;\n",
    "}\n",
    "probability ( Dyspnoea | Cancer ) {\n",
    "  (True) 0.65, 0.35;\n",
    "  (False) 0.3, 0.7;\n",
    "}"
   ]
  },
  {
   "cell_type": "markdown",
   "metadata": {},
   "source": [
    "### pgmpy"
   ]
  },
  {
   "cell_type": "code",
   "execution_count": 2,
   "metadata": {},
   "outputs": [],
   "source": [
    "cancer_model = BayesianModel([('Pollution', 'Cancer'), \n",
    "                              ('Smoker', 'Cancer'),\n",
    "                              ('Cancer', 'Xray'),\n",
    "                              ('Cancer', 'Dyspnoea')])\n",
    "\n",
    "cpd_poll = TabularCPD(variable='Pollution', variable_card=2,\n",
    "                      values=[[0.9], [0.1]])\n",
    "cpd_smoke = TabularCPD(variable='Smoker', variable_card=2,\n",
    "                       values=[[0.3], [0.7]])\n",
    "cpd_cancer = TabularCPD(variable='Cancer', variable_card=2,\n",
    "                        values=[[0.03, 0.05, 0.001, 0.02],\n",
    "                                [0.97, 0.95, 0.999, 0.98]],\n",
    "                        evidence=['Smoker', 'Pollution'],\n",
    "                        evidence_card=[2, 2])\n",
    "cpd_xray = TabularCPD(variable='Xray', variable_card=2,\n",
    "                      values=[[0.9, 0.2], [0.1, 0.8]],\n",
    "                      evidence=['Cancer'], evidence_card=[2])\n",
    "cpd_dysp = TabularCPD(variable='Dyspnoea', variable_card=2,\n",
    "                      values=[[0.65, 0.3], [0.35, 0.7]],\n",
    "                      evidence=['Cancer'], evidence_card=[2])"
   ]
  },
  {
   "cell_type": "code",
   "execution_count": 3,
   "metadata": {},
   "outputs": [],
   "source": [
    "cancer_model.add_cpds(cpd_poll, cpd_smoke, cpd_cancer, cpd_xray, cpd_dysp)"
   ]
  },
  {
   "cell_type": "markdown",
   "metadata": {},
   "source": [
    "#### Queries"
   ]
  },
  {
   "cell_type": "code",
   "execution_count": 4,
   "metadata": {},
   "outputs": [
    {
     "name": "stdout",
     "output_type": "stream",
     "text": [
      "---------------q1------------------------\n",
      "╒════════╤═════════════╕\n",
      "│ Xray   │   phi(Xray) │\n",
      "╞════════╪═════════════╡\n",
      "│ Xray_0 │      0.2210 │\n",
      "├────────┼─────────────┤\n",
      "│ Xray_1 │      0.7790 │\n",
      "╘════════╧═════════════╛\n",
      "---------------q2------------------------\n",
      "╒══════════╤═══════════════╕\n",
      "│ Cancer   │   phi(Cancer) │\n",
      "╞══════════╪═══════════════╡\n",
      "│ Cancer_0 │        0.0668 │\n",
      "├──────────┼───────────────┤\n",
      "│ Cancer_1 │        0.9332 │\n",
      "╘══════════╧═══════════════╛\n",
      "---------------q3------------------------\n",
      "╒══════════╤═══════════════╕\n",
      "│ Cancer   │   phi(Cancer) │\n",
      "╞══════════╪═══════════════╡\n",
      "│ Cancer_0 │        0.1029 │\n",
      "├──────────┼───────────────┤\n",
      "│ Cancer_1 │        0.8971 │\n",
      "╘══════════╧═══════════════╛\n",
      "---------------q4------------------------\n",
      "╒══════════╤═══════════════╕\n",
      "│ Cancer   │   phi(Cancer) │\n",
      "╞══════════╪═══════════════╡\n",
      "│ Cancer_0 │        0.0116 │\n",
      "├──────────┼───────────────┤\n",
      "│ Cancer_1 │        0.9884 │\n",
      "╘══════════╧═══════════════╛\n"
     ]
    }
   ],
   "source": [
    "ex1_infer = VariableElimination(cancer_model)\n",
    "\n",
    "\n",
    "q1 = ex1_infer.query(['Xray'], {'Smoker': 0, 'Pollution':0 })\n",
    "q2 = ex1_infer.query(['Cancer'], {'Smoker': 0, 'Dyspnoea':0 })\n",
    "q3 = ex1_infer.query(['Cancer'], {'Xray': 0, 'Dyspnoea':0 })\n",
    "q4 = ex1_infer.query(['Cancer'])\n",
    "print('---------------q1------------------------')\n",
    "print(q1['Xray'])\n",
    "print('---------------q2------------------------')\n",
    "print(q2['Cancer'])\n",
    "print('---------------q3------------------------')\n",
    "print(q3['Cancer'])\n",
    "print('---------------q4------------------------')\n",
    "print(q4['Cancer'])"
   ]
  },
  {
   "cell_type": "markdown",
   "metadata": {},
   "source": [
    "### My  Bayesian Network"
   ]
  },
  {
   "cell_type": "code",
   "execution_count": 5,
   "metadata": {},
   "outputs": [],
   "source": [
    "BN = my_BayesNet([('Pollution', 'Cancer'),\n",
    "      ('Smoker', 'Cancer'),\n",
    "      ('Cancer', 'Xray'),\n",
    "      ('Cancer', 'Dyspnoea')])\n",
    "\n",
    "my_cpd_poll = my_TabularCPD(variable='Pollution',\n",
    "                      values=[[0.9], [0.1]])\n",
    "my_cpd_smoke = my_TabularCPD(variable='Smoker',\n",
    "                       values=[[0.3], [0.7]])\n",
    "my_cpd_cancer = my_TabularCPD(variable='Cancer',\n",
    "                        values=[[0.03, 0.05, 0.001, 0.02],\n",
    "                                [0.97, 0.95, 0.999, 0.98]],\n",
    "                        evidence=['Smoker', 'Pollution'],)\n",
    "my_cpd_xray = my_TabularCPD(variable='Xray',\n",
    "                      values=[[0.9, 0.2], [0.1, 0.8]],\n",
    "                      evidence=['Cancer'])\n",
    "my_cpd_dysp = my_TabularCPD(variable='Dyspnoea',\n",
    "                      values=[[0.65, 0.3], [0.35, 0.7]],\n",
    "                      evidence=['Cancer'])\n",
    "BN.add_cpds([my_cpd_poll, my_cpd_smoke, my_cpd_cancer, my_cpd_xray, my_cpd_dysp])"
   ]
  },
  {
   "cell_type": "code",
   "execution_count": 6,
   "metadata": {},
   "outputs": [
    {
     "name": "stdout",
     "output_type": "stream",
     "text": [
      "---------------q1------------------------\n",
      "Nodes: ['Xray']\n",
      "Probabilities:\n",
      "[[0.    0.221]\n",
      " [1.    0.779]]\n",
      "\n",
      "---------------q2------------------------\n",
      "Nodes: ['Cancer']\n",
      "Probabilities:\n",
      "[[0.         0.06683805]\n",
      " [1.         0.93316195]]\n",
      "\n",
      "---------------q3------------------------\n",
      "Nodes: ['Cancer']\n",
      "Probabilities:\n",
      "[[0.         0.10291919]\n",
      " [1.         0.89708081]]\n",
      "\n",
      "---------------q4------------------------\n",
      "Nodes: ['Cancer']\n",
      "Probabilities:\n",
      "[[0.      0.01163]\n",
      " [1.      0.98837]]\n",
      "\n"
     ]
    }
   ],
   "source": [
    "ex1_my_infer = my_VariableElimination(BN)\n",
    "my_q1 = ex1_my_infer.query(['Xray'], {'Smoker': 0, 'Pollution':0 })\n",
    "my_q2 = ex1_my_infer.query(['Cancer'], {'Smoker': 0, 'Dyspnoea':0 })\n",
    "my_q3 = ex1_my_infer.query(['Cancer'], {'Xray': 0, 'Dyspnoea':0 })\n",
    "my_q4 = ex1_my_infer.query(['Cancer'])\n",
    "print('---------------q1------------------------')\n",
    "print(my_q1['Xray'])\n",
    "print('---------------q2------------------------')\n",
    "print(my_q2['Cancer'])\n",
    "print('---------------q3------------------------')\n",
    "print(my_q3['Cancer'])\n",
    "print('---------------q4------------------------')\n",
    "print(my_q4['Cancer'])"
   ]
  },
  {
   "cell_type": "markdown",
   "metadata": {},
   "source": [
    "## Example 2\n",
    "The graph\n",
    "<img src=\"http://www.bnlearn.com/bnrepository/earthquake/earthquake.png\" width=\"400\">\n"
   ]
  },
  {
   "cell_type": "raw",
   "metadata": {},
   "source": [
    "network unknown {\n",
    "}\n",
    "variable Burglary {\n",
    "  type discrete [ 2 ] { True, False };\n",
    "}\n",
    "variable Earthquake {\n",
    "  type discrete [ 2 ] { True, False };\n",
    "}\n",
    "variable Alarm {\n",
    "  type discrete [ 2 ] { True, False };\n",
    "}\n",
    "variable JohnCalls {\n",
    "  type discrete [ 2 ] { True, False };\n",
    "}\n",
    "variable MaryCalls {\n",
    "  type discrete [ 2 ] { True, False };\n",
    "}\n",
    "probability ( Burglary ) {\n",
    "  table 0.01, 0.99;\n",
    "}\n",
    "probability ( Earthquake ) {\n",
    "  table 0.02, 0.98;\n",
    "}\n",
    "probability ( Alarm | Burglary, Earthquake ) {\n",
    "  (True, True) 0.95, 0.05;\n",
    "  (False, True) 0.29, 0.71;\n",
    "  (True, False) 0.94, 0.06;\n",
    "  (False, False) 0.001, 0.999;\n",
    "}\n",
    "probability ( JohnCalls | Alarm ) {\n",
    "  (True) 0.9, 0.1;\n",
    "  (False) 0.05, 0.95;\n",
    "}\n",
    "probability ( MaryCalls | Alarm ) {\n",
    "  (True) 0.7, 0.3;\n",
    "  (False) 0.01, 0.99;\n",
    "}"
   ]
  },
  {
   "cell_type": "markdown",
   "metadata": {},
   "source": [
    "### pgmpy"
   ]
  },
  {
   "cell_type": "code",
   "execution_count": 8,
   "metadata": {},
   "outputs": [],
   "source": [
    "earthquake_model = BayesianModel([('Burglary', 'Alarm'), \n",
    "                              ('Earthquake', 'Alarm'),\n",
    "                              ('Alarm', 'MaryCalls'),\n",
    "                              ('Alarm', 'JohnCalls')])\n",
    "\n",
    "cpd_B = TabularCPD(variable='Burglary', variable_card=2,\n",
    "                      values=[[0.9], [0.1]])\n",
    "cpd_E = TabularCPD(variable='Earthquake', variable_card=2,\n",
    "                       values=[[0.3], [0.7]])\n",
    "cpd_A = TabularCPD(variable='Alarm', variable_card=2,\n",
    "                        values=[[0.95, 0.29, 0.94, 0.001],\n",
    "                                [0.05, 0.71, 0.06, 0.999]],\n",
    "                        evidence=['Earthquake', 'Burglary'],\n",
    "                        evidence_card=[2, 2])\n",
    "cpd_J = TabularCPD(variable='JohnCalls', variable_card=2,\n",
    "                      values=[[0.9, 0.05], [0.1, 0.95]],\n",
    "                      evidence=['Alarm'], evidence_card=[2])\n",
    "cpd_M = TabularCPD(variable='MaryCalls', variable_card=2,\n",
    "                      values=[[0.7, 0.01], [0.3, 0.99]],\n",
    "                      evidence=['Alarm'], evidence_card=[2])"
   ]
  },
  {
   "cell_type": "code",
   "execution_count": 9,
   "metadata": {},
   "outputs": [],
   "source": [
    "earthquake_model.add_cpds(cpd_B, cpd_E, cpd_A, cpd_J, cpd_M)"
   ]
  },
  {
   "cell_type": "markdown",
   "metadata": {},
   "source": [
    "### Queries"
   ]
  },
  {
   "cell_type": "code",
   "execution_count": 11,
   "metadata": {},
   "outputs": [
    {
     "name": "stdout",
     "output_type": "stream",
     "text": [
      "---------------q1------------------------\n",
      "╒═════════════╤══════════════════╕\n",
      "│ JohnCalls   │   phi(JohnCalls) │\n",
      "╞═════════════╪══════════════════╡\n",
      "│ JohnCalls_0 │           0.8980 │\n",
      "├─────────────┼──────────────────┤\n",
      "│ JohnCalls_1 │           0.1020 │\n",
      "╘═════════════╧══════════════════╛\n",
      "---------------q2------------------------\n",
      "╒══════════════╤═══════════════════╕\n",
      "│ Earthquake   │   phi(Earthquake) │\n",
      "╞══════════════╪═══════════════════╡\n",
      "│ Earthquake_0 │            0.3093 │\n",
      "├──────────────┼───────────────────┤\n",
      "│ Earthquake_1 │            0.6907 │\n",
      "╘══════════════╧═══════════════════╛\n",
      "---------------q3------------------------\n",
      "╒═════════╤══════════════╕\n",
      "│ Alarm   │   phi(Alarm) │\n",
      "╞═════════╪══════════════╡\n",
      "│ Alarm_0 │       0.8575 │\n",
      "├─────────┼──────────────┤\n",
      "│ Alarm_1 │       0.1425 │\n",
      "╘═════════╧══════════════╛\n",
      "---------------q4------------------------\n",
      "╒═════════════╤══════════════════╕\n",
      "│ MaryCalls   │   phi(MaryCalls) │\n",
      "╞═════════════╪══════════════════╡\n",
      "│ MaryCalls_0 │           0.6655 │\n",
      "├─────────────┼──────────────────┤\n",
      "│ MaryCalls_1 │           0.3345 │\n",
      "╘═════════════╧══════════════════╛\n"
     ]
    }
   ],
   "source": [
    "ex2_infer = VariableElimination(earthquake_model)\n",
    "\n",
    "\n",
    "q1 = ex2_infer.query(['JohnCalls'], {'MaryCalls':0})\n",
    "q2 = ex2_infer.query(['Earthquake'], {'MaryCalls': 0, 'JohnCalls':0 })\n",
    "q3 = ex2_infer.query(['Alarm'])\n",
    "q4 = ex2_infer.query(['MaryCalls'], {'Burglary':0, 'Earthquake':0})\n",
    "print('---------------q1------------------------')\n",
    "print(q1['JohnCalls'])\n",
    "print('---------------q2------------------------')\n",
    "print(q2['Earthquake'])\n",
    "print('---------------q3------------------------')\n",
    "print(q3['Alarm'])\n",
    "print('---------------q4------------------------')\n",
    "print(q4['MaryCalls'])"
   ]
  },
  {
   "cell_type": "markdown",
   "metadata": {},
   "source": [
    "###  My  Bayesian Network"
   ]
  },
  {
   "cell_type": "code",
   "execution_count": 19,
   "metadata": {},
   "outputs": [],
   "source": [
    "BN_2 = my_BayesNet([('Burglary', 'Alarm'), \n",
    "                              ('Earthquake', 'Alarm'),\n",
    "                              ('Alarm', 'MaryCalls'),\n",
    "                              ('Alarm', 'JohnCalls')])\n",
    "\n",
    "my_cpd_B = my_TabularCPD(variable='Burglary',\n",
    "                      values=[[0.9], [0.1]])\n",
    "my_cpd_E = my_TabularCPD(variable='Earthquake',\n",
    "                       values=[[0.3], [0.7]])\n",
    "my_cpd_A = my_TabularCPD(variable='Alarm',\n",
    "                        values=[[0.95, 0.29, 0.94, 0.001],\n",
    "                                [0.05, 0.71, 0.06, 0.999]],\n",
    "                        evidence=['Earthquake', 'Burglary'])\n",
    "my_cpd_J = my_TabularCPD(variable='JohnCalls',\n",
    "                      values=[[0.9, 0.05], [0.1, 0.95]],\n",
    "                      evidence=['Alarm'])\n",
    "my_cpd_M = my_TabularCPD(variable='MaryCalls',\n",
    "                      values=[[0.7, 0.01], [0.3, 0.99]],\n",
    "                      evidence=['Alarm'])\n",
    "BN_2.add_cpds([my_cpd_B, my_cpd_E, my_cpd_A, my_cpd_J, my_cpd_M])"
   ]
  },
  {
   "cell_type": "code",
   "execution_count": 21,
   "metadata": {},
   "outputs": [
    {
     "name": "stdout",
     "output_type": "stream",
     "text": [
      "---------------q1------------------------\n",
      "Nodes: ['JohnCalls']\n",
      "Probabilities:\n",
      "[[0.         0.89798638]\n",
      " [1.         0.10201362]]\n",
      "\n",
      "---------------q2------------------------\n",
      "Nodes: ['Earthquake']\n",
      "Probabilities:\n",
      "[[0.         0.30927337]\n",
      " [1.         0.69072663]]\n",
      "\n",
      "---------------q3------------------------\n",
      "Nodes: ['Alarm']\n",
      "Probabilities:\n",
      "[[0.      0.85747]\n",
      " [1.      0.14253]]\n",
      "\n",
      "---------------q4------------------------\n",
      "Nodes: ['MaryCalls']\n",
      "Probabilities:\n",
      "[[0.     0.6655]\n",
      " [1.     0.3345]]\n",
      "\n"
     ]
    }
   ],
   "source": [
    "my_ex2_infer = my_VariableElimination(BN_2)\n",
    "my_q1 = my_ex2_infer.query(['JohnCalls'], {'MaryCalls':0})\n",
    "my_q2 = my_ex2_infer.query(['Earthquake'], {'MaryCalls': 0, 'JohnCalls':0 })\n",
    "my_q3 = my_ex2_infer.query(['Alarm'])\n",
    "my_q4 = my_ex2_infer.query(['MaryCalls'], {'Burglary':0, 'Earthquake':0})\n",
    "print('---------------q1------------------------')\n",
    "print(my_q1['JohnCalls'])\n",
    "print('---------------q2------------------------')\n",
    "print(my_q2['Earthquake'])\n",
    "print('---------------q3------------------------')\n",
    "print(my_q3['Alarm'])\n",
    "print('---------------q4------------------------')\n",
    "print(my_q4['MaryCalls'])"
   ]
  },
  {
   "cell_type": "code",
   "execution_count": null,
   "metadata": {},
   "outputs": [],
   "source": []
  }
 ],
 "metadata": {
  "kernelspec": {
   "display_name": "Python 3",
   "language": "python",
   "name": "python3"
  },
  "language_info": {
   "codemirror_mode": {
    "name": "ipython",
    "version": 3
   },
   "file_extension": ".py",
   "mimetype": "text/x-python",
   "name": "python",
   "nbconvert_exporter": "python",
   "pygments_lexer": "ipython3",
   "version": "3.5.5"
  }
 },
 "nbformat": 4,
 "nbformat_minor": 2
}
